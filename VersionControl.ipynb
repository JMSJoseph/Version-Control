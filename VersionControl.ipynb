{
 "cells": [
  {
   "cell_type": "code",
   "execution_count": 1,
   "metadata": {},
   "outputs": [
    {
     "name": "stdin",
     "output_type": "stream",
     "text": [
      "What is your name? Joe\n",
      "What is your age? 18\n",
      "What state do you live in? PA\n",
      "What time is it? 9:30\n"
     ]
    },
    {
     "name": "stdout",
     "output_type": "stream",
     "text": [
      "Your name is Joe, you are 18 years old, and it is 9:30\n",
      "You live in PA\n",
      "Have a good day!\n"
     ]
    }
   ],
   "source": [
    "#Joseph Secosky and Steven Zheng\n",
    "name = input(\"What is your name?\")\n",
    "age = int(input(\"What is your age?\"))\n",
    "state = input(\"What state do you live in?\")\n",
    "time = input(\"What time is it?\");\n",
    "print(\"Your name is \" + name + \", you are\", age, \"years old, and it is \" + time)\n",
    "print(\"You live in\", state)\n",
    "print(\"Have a good day!\")"
   ]
  },
  {
   "cell_type": "code",
   "execution_count": null,
   "metadata": {},
   "outputs": [],
   "source": []
  }
 ],
 "metadata": {
  "kernelspec": {
   "display_name": "Python 3",
   "language": "python",
   "name": "python3"
  },
  "language_info": {
   "codemirror_mode": {
    "name": "ipython",
    "version": 3
   },
   "file_extension": ".py",
   "mimetype": "text/x-python",
   "name": "python",
   "nbconvert_exporter": "python",
   "pygments_lexer": "ipython3",
   "version": "3.8.3"
  }
 },
 "nbformat": 4,
 "nbformat_minor": 4
}
